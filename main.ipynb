{
 "cells": [
  {
   "cell_type": "code",
   "execution_count": 2,
   "metadata": {},
   "outputs": [],
   "source": [
    "import cv2\n",
    "import numpy as np\n",
    "import mediapipe as mp\n",
    "import pickle\n",
    "import time\n",
    "from scipy.interpolate import interp1d\n",
    "from fastdtw import fastdtw\n",
    "from scipy.spatial.distance import cosine"
   ]
  },
  {
   "cell_type": "code",
   "execution_count": 3,
   "metadata": {},
   "outputs": [],
   "source": [
    "mp_drawing=mp.solutions.drawing_utils\n",
    "mp_pose=mp.solutions.pose"
   ]
  },
  {
   "cell_type": "markdown",
   "metadata": {},
   "source": [
    "##### Visualizing Landmarks from WebCam (RealTime)\n",
    "**This just shows the Landmarks on screen, not stores them.**"
   ]
  },
  {
   "cell_type": "code",
   "execution_count": 12,
   "metadata": {},
   "outputs": [
    {
     "name": "stderr",
     "output_type": "stream",
     "text": [
      "I0000 00:00:1717434218.633829   16043 gl_context_egl.cc:85] Successfully initialized EGL. Major : 1 Minor: 5\n",
      "I0000 00:00:1717434218.678597   68407 gl_context.cc:357] GL version: 3.2 (OpenGL ES 3.2 Mesa 23.2.1-1ubuntu3.1~22.04.2), renderer: Mesa Intel(R) Xe Graphics (TGL GT2)\n",
      "W0000 00:00:1717434218.760470   68399 inference_feedback_manager.cc:114] Feedback manager requires a model with a single signature inference. Disabling support for feedback tensors.\n",
      "W0000 00:00:1717434218.782136   68398 inference_feedback_manager.cc:114] Feedback manager requires a model with a single signature inference. Disabling support for feedback tensors.\n",
      "\n",
      "XSMP error:  Offending minor opcode    = 5 (InteractRequest)\n",
      "             Offending sequence number = 24\n",
      "             Error class               = BadState\n",
      "             Severity                  = CanContinue\n",
      "\n",
      "\n",
      "XSMP error:  Offending minor opcode    = 7 (InteractDone)\n",
      "             Offending sequence number = 25\n",
      "             Error class               = BadState\n",
      "             Severity                  = CanContinue\n",
      "\n",
      "/home/kaustubh/.local/lib/python3.11/site-packages/google/protobuf/symbol_database.py:55: UserWarning: SymbolDatabase.GetPrototype() is deprecated. Please use message_factory.GetMessageClass() instead. SymbolDatabase.GetPrototype() will be removed soon.\n",
      "  warnings.warn('SymbolDatabase.GetPrototype() is deprecated. Please '\n"
     ]
    }
   ],
   "source": [
    "cap=cv2.VideoCapture(0)\n",
    "with mp_pose.Pose(min_detection_confidence=0.5, min_tracking_confidence=0.5) as pose:\n",
    "    while cap.isOpened():\n",
    "        ret, frame = cap.read()\n",
    "        image = cv2.cvtColor(frame, cv2.COLOR_BGR2RGB)\n",
    "        image.flags.writeable = False\n",
    "\n",
    "            # Make detection\n",
    "        results = pose.process(image)\n",
    "\n",
    "            # Recolor back to BGR\n",
    "        image.flags.writeable = True\n",
    "        image = cv2.cvtColor(image, cv2.COLOR_RGB2BGR)\n",
    "        # print(results)\n",
    "        \n",
    "        mp_drawing.draw_landmarks(image, results.pose_landmarks, mp_pose.POSE_CONNECTIONS)\n",
    "        cv2.imshow('Look at Yourself', image)\n",
    "        if cv2.waitKey(10) & 0xFF==ord('q'):\n",
    "            break\n",
    "    cap.release()\n",
    "    cv2.destroyAllWindows()\n"
   ]
  },
  {
   "cell_type": "markdown",
   "metadata": {},
   "source": [
    "##### Extracting Landmarks from Video using Pickle"
   ]
  },
  {
   "cell_type": "code",
   "execution_count": 9,
   "metadata": {},
   "outputs": [
    {
     "name": "stderr",
     "output_type": "stream",
     "text": [
      "[aac @ 0x3f68480] channel element 3.9 is not allocated\n",
      "I0000 00:00:1717417577.936643   16043 gl_context_egl.cc:85] Successfully initialized EGL. Major : 1 Minor: 5\n",
      "I0000 00:00:1717417577.940031   33919 gl_context.cc:357] GL version: 3.2 (OpenGL ES 3.2 Mesa 23.2.1-1ubuntu3.1~22.04.2), renderer: Mesa Intel(R) Xe Graphics (TGL GT2)\n",
      "W0000 00:00:1717417578.068904   33909 inference_feedback_manager.cc:114] Feedback manager requires a model with a single signature inference. Disabling support for feedback tensors.\n",
      "W0000 00:00:1717417578.110294   33915 inference_feedback_manager.cc:114] Feedback manager requires a model with a single signature inference. Disabling support for feedback tensors.\n",
      "/home/kaustubh/.local/lib/python3.11/site-packages/google/protobuf/symbol_database.py:55: UserWarning: SymbolDatabase.GetPrototype() is deprecated. Please use message_factory.GetMessageClass() instead. SymbolDatabase.GetPrototype() will be removed soon.\n",
      "  warnings.warn('SymbolDatabase.GetPrototype() is deprecated. Please '\n"
     ]
    }
   ],
   "source": [
    "cap=cv2.VideoCapture(\"tornado_kick_demo.mp4\")\n",
    "with mp_pose.Pose(min_detection_confidence=0.5, min_tracking_confidence=0.5) as pose:\n",
    "    frame_number=0\n",
    "    landmarks_data = []\n",
    "    while cap.isOpened():\n",
    "        ret, frame = cap.read()\n",
    "        # Breaks loop when there are no more frames to read\n",
    "        if not ret:\n",
    "            break\n",
    "        \n",
    "        \n",
    "        \n",
    "        # Coloring to RGB\n",
    "        image = cv2.cvtColor(frame, cv2.COLOR_BGR2RGB)\n",
    "        image.flags.writeable = False\n",
    "\n",
    "        # Make detection\n",
    "        results = pose.process(image)\n",
    "\n",
    "        # Recolor back to BGR\n",
    "        image.flags.writeable = True\n",
    "        image = cv2.cvtColor(image, cv2.COLOR_RGB2BGR)\n",
    "        # print(results)\n",
    "        \n",
    "        if results.pose_landmarks:\n",
    "            landmarks = results.pose_landmarks.landmark\n",
    "            # Save the landmarks data to the list\n",
    "            landmarks_data.append({\n",
    "                \"frame\": frame_number,\n",
    "                \"landmarks\": [{\n",
    "            \"id\": i,\n",
    "            \"x\": landmark.x,\n",
    "            \"y\": landmark.y,\n",
    "            \"z\": landmark.z,\n",
    "            \"visibility\": landmark.visibility\n",
    "        } for i, landmark in enumerate(landmarks)]\n",
    "            })\n",
    "        \n",
    "        mp_drawing.draw_landmarks(image, results.pose_landmarks, mp_pose.POSE_CONNECTIONS)\n",
    "        cv2.imshow('Reference video', image)\n",
    "        frame_number += 1\n",
    "\n",
    "    \n",
    "        \n",
    "        if cv2.waitKey(10) & 0xFF==ord('q'):\n",
    "            break\n",
    "    cap.release()\n",
    "    cv2.destroyAllWindows()\n",
    "    # Save the landmarks data to a pickle file\n",
    "    with open('landmarks_reference.pkl', 'wb') as file:\n",
    "        pickle.dump(landmarks_data, file)\n"
   ]
  },
  {
   "cell_type": "markdown",
   "metadata": {},
   "source": [
    "#### Code for comparing reference video with Realtime video"
   ]
  },
  {
   "cell_type": "markdown",
   "metadata": {},
   "source": [
    "Defining Functions"
   ]
  },
  {
   "cell_type": "code",
   "execution_count": 4,
   "metadata": {},
   "outputs": [],
   "source": [
    "def load_landmarks(file_path):\n",
    "    with open(file_path, 'rb') as f:\n",
    "        return pickle.load(f)\n",
    "\n",
    "def extract_landmarks_from_frame(frame, pose):\n",
    "    image = cv2.cvtColor(frame, cv2.COLOR_BGR2RGB)\n",
    "    image.flags.writeable = False\n",
    "    results = pose.process(image)\n",
    "    # image.flags.writeable = True\n",
    "    if results.pose_landmarks:\n",
    "        landmarks = results.pose_landmarks.landmark\n",
    "        return [{\n",
    "            \"id\": i,\n",
    "            \"x\": landmark.x,\n",
    "            \"y\": landmark.y,\n",
    "            \"z\": landmark.z,\n",
    "            \"visibility\": landmark.visibility\n",
    "        } for i, landmark in enumerate(landmarks)]\n",
    "    return None\n",
    "\n",
    "\n",
    "def calculate_landmark_distances(landmarks1, landmarks2):\n",
    "    distances = []\n",
    "    for lm1, lm2 in zip(landmarks1, landmarks2):\n",
    "        sum=[]\n",
    "        for i,j in zip(lm1,lm2):\n",
    "            distance = np.sqrt((i['x'] - j['x']) ** 2 + (i['y'] - j['y']) ** 2 + (i['z'] - j['z']) ** 2)\n",
    "            sum.append(distance)\n",
    "        distances.append(np.mean(sum))\n",
    "    #     print(lm1)\n",
    "    return distances\n",
    "\n",
    "def interpolate_landmarks(real_time_landmarks, target_frame_count):\n",
    "    original_frame_count = len(real_time_landmarks)\n",
    "    # print(\"Original FrameCount\",original_frame_count)\n",
    "    frame_indices = np.arange(original_frame_count)\n",
    "    # print(frame_indices)\n",
    "    target_indices = np.linspace(0, original_frame_count - 1, target_frame_count)\n",
    "    # print(target_indices)\n",
    "    \n",
    "    interpolated_landmarks = []\n",
    "    for i in range(33):  # Number of landmarks\n",
    "        xs = [frame['landmarks'][i]['x'] for frame in real_time_landmarks]\n",
    "        # print(xs)\n",
    "        ys = [frame['landmarks'][i]['y'] for frame in real_time_landmarks]\n",
    "        zs = [frame['landmarks'][i]['z'] for frame in real_time_landmarks]\n",
    "        \n",
    "        interp_x = interp1d(frame_indices, xs, kind='cubic')(target_indices)\n",
    "        interp_y = interp1d(frame_indices, ys, kind='cubic')(target_indices)\n",
    "        interp_z = interp1d(frame_indices, zs, kind='cubic')(target_indices)\n",
    "        for j, idx in enumerate(target_indices):\n",
    "            if len(interpolated_landmarks) <= j:\n",
    "                interpolated_landmarks.append({\n",
    "                    \"frame\": j,\n",
    "                    \"landmarks\": []\n",
    "                })\n",
    "            interpolated_landmarks[j]['landmarks'].append({\n",
    "                \"id\": i,\n",
    "                \"x\": interp_x[j],\n",
    "                \"y\": interp_y[j],\n",
    "                \"z\": interp_z[j],\n",
    "                \"visibility\": 1.0  # Assuming visibility is 1.0 for interpolated landmarks\n",
    "            })\n",
    "    \n",
    "    return interpolated_landmarks\n"
   ]
  },
  {
   "cell_type": "markdown",
   "metadata": {},
   "source": [
    "Loading Landmarks from Pickle File"
   ]
  },
  {
   "cell_type": "code",
   "execution_count": 5,
   "metadata": {},
   "outputs": [],
   "source": [
    "\n",
    "# Load the pre-recorded landmarks\n",
    "reference_landmarks = load_landmarks('landmarks_reference.pkl')\n",
    "# for i in reference_landmarks:\n",
    "#     print(i['frame'])\n",
    " "
   ]
  },
  {
   "cell_type": "markdown",
   "metadata": {},
   "source": [
    "Recording realtime video and comparing landmarks. Testing needs to be done. Male sure all landmarks are visible."
   ]
  },
  {
   "cell_type": "code",
   "execution_count": 49,
   "metadata": {},
   "outputs": [
    {
     "name": "stderr",
     "output_type": "stream",
     "text": [
      "[aac @ 0x4959840] channel element 3.9 is not allocated\n",
      "I0000 00:00:1717485095.212037   23303 gl_context_egl.cc:85] Successfully initialized EGL. Major : 1 Minor: 5\n",
      "I0000 00:00:1717485095.222699   27748 gl_context.cc:357] GL version: 3.2 (OpenGL ES 3.2 Mesa 23.2.1-1ubuntu3.1~22.04.2), renderer: Mesa Intel(R) Xe Graphics (TGL GT2)\n",
      "W0000 00:00:1717485095.356143   27741 inference_feedback_manager.cc:114] Feedback manager requires a model with a single signature inference. Disabling support for feedback tensors.\n",
      "W0000 00:00:1717485095.389589   27743 inference_feedback_manager.cc:114] Feedback manager requires a model with a single signature inference. Disabling support for feedback tensors.\n"
     ]
    },
    {
     "name": "stdout",
     "output_type": "stream",
     "text": [
      "30.0\n",
      "1.8333333333333333\n",
      "30.0\n"
     ]
    },
    {
     "name": "stderr",
     "output_type": "stream",
     "text": [
      "/home/kaustubh/.local/lib/python3.11/site-packages/google/protobuf/symbol_database.py:55: UserWarning: SymbolDatabase.GetPrototype() is deprecated. Please use message_factory.GetMessageClass() instead. SymbolDatabase.GetPrototype() will be removed soon.\n",
      "  warnings.warn('SymbolDatabase.GetPrototype() is deprecated. Please '\n"
     ]
    },
    {
     "name": "stdout",
     "output_type": "stream",
     "text": [
      "Time is 1.8971562385559082\n",
      "Real-time footage has 18 frames; reference has 55 frames.\n",
      "55 55\n",
      "Frame 54: Average distance: 0.5518935855845324\n"
     ]
    }
   ],
   "source": [
    "\n",
    "# Calculate the frame rate of the reference video\n",
    "cap = cv2.VideoCapture(\"tornado_kick_demo.mp4\")\n",
    "if not cap.isOpened():\n",
    "    print(\"Error: Could not open video.\")\n",
    "\n",
    "# Get the frames per second (fps)\n",
    "fps = cap.get(cv2.CAP_PROP_FPS)\n",
    "print(fps)\n",
    "\n",
    "# Get the total number of frames\n",
    "frame_count = len(reference_landmarks)\n",
    "\n",
    "# Calculate duration in seconds\n",
    "video_duration = frame_count / fps\n",
    "print(video_duration)\n",
    "\n",
    "cap.release()  # seconds\n",
    "# reference_frame_count = len(reference_landmarks)\n",
    "\n",
    "\n",
    "# Start capturing real-time footage\n",
    "frame_number = 0\n",
    "real_time_landmarks = []\n",
    "cap_realtime = cv2.VideoCapture(0)\n",
    "print(cap_realtime.get(cv2.CAP_PROP_FPS))\n",
    "with mp_pose.Pose(min_detection_confidence=0.5, min_tracking_confidence=0.5) as pose:\n",
    "    start_time = time.time()\n",
    "    \n",
    "\n",
    "    while cap_realtime.isOpened() and (time.time() - start_time) < video_duration:\n",
    "        ret, frame = cap_realtime.read()\n",
    "        if not ret:\n",
    "            break\n",
    "        \n",
    "        landmarks = extract_landmarks_from_frame(frame, pose)\n",
    "        if landmarks:\n",
    "            real_time_landmarks.append({\n",
    "                \"frame\": frame_number,\n",
    "                \"landmarks\": landmarks\n",
    "            })\n",
    "            frame_number += 1\n",
    "\n",
    "            # Draw landmarks on the real-time frame\n",
    "            mp_drawing.draw_landmarks(frame, pose.process(cv2.cvtColor(frame, cv2.COLOR_BGR2RGB)).pose_landmarks, mp_pose.POSE_CONNECTIONS)\n",
    "\n",
    "        # Display the real-time frame\n",
    "        cv2.imshow('Real-Time Footage', frame)\n",
    "        if cv2.waitKey(1) & 0xFF == ord('q'):\n",
    "            break\n",
    "    print(\"Time is\", time.time()-start_time)\n",
    "    cap_realtime.release()\n",
    "    cv2.destroyAllWindows()\n",
    "    ref_landmarks=[]\n",
    "    realtime_landmarks=[]\n",
    "    # for l in real_time_landmarks:\n",
    "    #     for i in l['landmarks']:\n",
    "    #         print(i['id'])\n",
    "    if len(real_time_landmarks) < frame_count:\n",
    "        print(f\"Real-time footage has {len(real_time_landmarks)} frames; reference has {frame_count} frames.\")\n",
    "        real_time_landmarks = interpolate_landmarks(real_time_landmarks, frame_count)\n",
    "    # for i in real_time_landmarks:\n",
    "    #     print(i)\n",
    "    for i in range(frame_count):\n",
    "        ref_landmarks.append(reference_landmarks[i]['landmarks'])\n",
    "        realtime_landmarks.append(real_time_landmarks[i]['landmarks'])\n",
    "    print(len(ref_landmarks), len(real_time_landmarks))\n",
    "    distances = calculate_landmark_distances(realtime_landmarks, ref_landmarks)\n",
    "    avg_distance = np.mean(distances)\n",
    "    print(f\"Frame {i}: Average distance: {avg_distance}\")\n",
    "\n"
   ]
  },
  {
   "cell_type": "code",
   "execution_count": 18,
   "metadata": {},
   "outputs": [
    {
     "name": "stderr",
     "output_type": "stream",
     "text": [
      "[aac @ 0x5383280] channel element 3.9 is not allocated\n",
      "I0000 00:00:1717571742.174386   39833 gl_context_egl.cc:85] Successfully initialized EGL. Major : 1 Minor: 5\n",
      "I0000 00:00:1717571742.176268   41505 gl_context.cc:357] GL version: 3.2 (OpenGL ES 3.2 Mesa 23.2.1-1ubuntu3.1~22.04.2), renderer: Mesa Intel(R) Xe Graphics (TGL GT2)\n",
      "W0000 00:00:1717571742.298132   41495 inference_feedback_manager.cc:114] Feedback manager requires a model with a single signature inference. Disabling support for feedback tensors.\n",
      "W0000 00:00:1717571742.340071   41496 inference_feedback_manager.cc:114] Feedback manager requires a model with a single signature inference. Disabling support for feedback tensors.\n"
     ]
    },
    {
     "name": "stdout",
     "output_type": "stream",
     "text": [
      "30.0\n",
      "1.8333333333333333\n",
      "30.0\n",
      "Time is 1.8407742977142334\n",
      "Real-time footage has 0 frames; reference has 55 frames.\n"
     ]
    },
    {
     "ename": "ValueError",
     "evalue": "cannot reshape array of size 0 into shape (0,newaxis)",
     "output_type": "error",
     "traceback": [
      "\u001b[0;31m---------------------------------------------------------------------------\u001b[0m",
      "\u001b[0;31mValueError\u001b[0m                                Traceback (most recent call last)",
      "Cell \u001b[0;32mIn[18], line 60\u001b[0m\n\u001b[1;32m     58\u001b[0m \u001b[38;5;28;01mif\u001b[39;00m \u001b[38;5;28mlen\u001b[39m(real_time_landmarks) \u001b[38;5;241m<\u001b[39m frame_count:\n\u001b[1;32m     59\u001b[0m     \u001b[38;5;28mprint\u001b[39m(\u001b[38;5;124mf\u001b[39m\u001b[38;5;124m\"\u001b[39m\u001b[38;5;124mReal-time footage has \u001b[39m\u001b[38;5;132;01m{\u001b[39;00m\u001b[38;5;28mlen\u001b[39m(real_time_landmarks)\u001b[38;5;132;01m}\u001b[39;00m\u001b[38;5;124m frames; reference has \u001b[39m\u001b[38;5;132;01m{\u001b[39;00mframe_count\u001b[38;5;132;01m}\u001b[39;00m\u001b[38;5;124m frames.\u001b[39m\u001b[38;5;124m\"\u001b[39m)\n\u001b[0;32m---> 60\u001b[0m     real_time_landmarks \u001b[38;5;241m=\u001b[39m \u001b[43minterpolate_landmarks\u001b[49m\u001b[43m(\u001b[49m\u001b[43mreal_time_landmarks\u001b[49m\u001b[43m,\u001b[49m\u001b[43m \u001b[49m\u001b[43mframe_count\u001b[49m\u001b[43m)\u001b[49m\n\u001b[1;32m     61\u001b[0m \u001b[38;5;66;03m# for i in real_time_landmarks:\u001b[39;00m\n\u001b[1;32m     62\u001b[0m \u001b[38;5;66;03m#     print(i)\u001b[39;00m\n\u001b[1;32m     63\u001b[0m \u001b[38;5;28;01mfor\u001b[39;00m i \u001b[38;5;129;01min\u001b[39;00m \u001b[38;5;28mrange\u001b[39m(frame_count):\n",
      "Cell \u001b[0;32mIn[4], line 48\u001b[0m, in \u001b[0;36minterpolate_landmarks\u001b[0;34m(real_time_landmarks, target_frame_count)\u001b[0m\n\u001b[1;32m     45\u001b[0m ys \u001b[38;5;241m=\u001b[39m [frame[\u001b[38;5;124m'\u001b[39m\u001b[38;5;124mlandmarks\u001b[39m\u001b[38;5;124m'\u001b[39m][i][\u001b[38;5;124m'\u001b[39m\u001b[38;5;124my\u001b[39m\u001b[38;5;124m'\u001b[39m] \u001b[38;5;28;01mfor\u001b[39;00m frame \u001b[38;5;129;01min\u001b[39;00m real_time_landmarks]\n\u001b[1;32m     46\u001b[0m zs \u001b[38;5;241m=\u001b[39m [frame[\u001b[38;5;124m'\u001b[39m\u001b[38;5;124mlandmarks\u001b[39m\u001b[38;5;124m'\u001b[39m][i][\u001b[38;5;124m'\u001b[39m\u001b[38;5;124mz\u001b[39m\u001b[38;5;124m'\u001b[39m] \u001b[38;5;28;01mfor\u001b[39;00m frame \u001b[38;5;129;01min\u001b[39;00m real_time_landmarks]\n\u001b[0;32m---> 48\u001b[0m interp_x \u001b[38;5;241m=\u001b[39m \u001b[43minterp1d\u001b[49m\u001b[43m(\u001b[49m\u001b[43mframe_indices\u001b[49m\u001b[43m,\u001b[49m\u001b[43m \u001b[49m\u001b[43mxs\u001b[49m\u001b[43m,\u001b[49m\u001b[43m \u001b[49m\u001b[43mkind\u001b[49m\u001b[38;5;241;43m=\u001b[39;49m\u001b[38;5;124;43m'\u001b[39;49m\u001b[38;5;124;43mcubic\u001b[39;49m\u001b[38;5;124;43m'\u001b[39;49m\u001b[43m)\u001b[49m(target_indices)\n\u001b[1;32m     49\u001b[0m interp_y \u001b[38;5;241m=\u001b[39m interp1d(frame_indices, ys, kind\u001b[38;5;241m=\u001b[39m\u001b[38;5;124m'\u001b[39m\u001b[38;5;124mcubic\u001b[39m\u001b[38;5;124m'\u001b[39m)(target_indices)\n\u001b[1;32m     50\u001b[0m interp_z \u001b[38;5;241m=\u001b[39m interp1d(frame_indices, zs, kind\u001b[38;5;241m=\u001b[39m\u001b[38;5;124m'\u001b[39m\u001b[38;5;124mcubic\u001b[39m\u001b[38;5;124m'\u001b[39m)(target_indices)\n",
      "File \u001b[0;32m~/.local/lib/python3.11/site-packages/scipy/interpolate/_interpolate.py:541\u001b[0m, in \u001b[0;36minterp1d.__init__\u001b[0;34m(self, x, y, kind, axis, copy, bounds_error, fill_value, assume_sorted)\u001b[0m\n\u001b[1;32m    539\u001b[0m \u001b[38;5;66;03m# Interpolation goes internally along the first axis\u001b[39;00m\n\u001b[1;32m    540\u001b[0m \u001b[38;5;28mself\u001b[39m\u001b[38;5;241m.\u001b[39my \u001b[38;5;241m=\u001b[39m y\n\u001b[0;32m--> 541\u001b[0m \u001b[38;5;28mself\u001b[39m\u001b[38;5;241m.\u001b[39m_y \u001b[38;5;241m=\u001b[39m \u001b[38;5;28;43mself\u001b[39;49m\u001b[38;5;241;43m.\u001b[39;49m\u001b[43m_reshape_yi\u001b[49m\u001b[43m(\u001b[49m\u001b[38;5;28;43mself\u001b[39;49m\u001b[38;5;241;43m.\u001b[39;49m\u001b[43my\u001b[49m\u001b[43m)\u001b[49m\n\u001b[1;32m    542\u001b[0m \u001b[38;5;28mself\u001b[39m\u001b[38;5;241m.\u001b[39mx \u001b[38;5;241m=\u001b[39m x\n\u001b[1;32m    543\u001b[0m \u001b[38;5;28;01mdel\u001b[39;00m y, x  \u001b[38;5;66;03m# clean up namespace to prevent misuse; use attributes\u001b[39;00m\n",
      "File \u001b[0;32m~/.local/lib/python3.11/site-packages/scipy/interpolate/_polyint.py:113\u001b[0m, in \u001b[0;36m_Interpolator1D._reshape_yi\u001b[0;34m(self, yi, check)\u001b[0m\n\u001b[1;32m    110\u001b[0m     ok_shape \u001b[38;5;241m=\u001b[39m \u001b[38;5;124m\"\u001b[39m\u001b[38;5;132;01m{!r}\u001b[39;00m\u001b[38;5;124m + (N,) + \u001b[39m\u001b[38;5;132;01m{!r}\u001b[39;00m\u001b[38;5;124m\"\u001b[39m\u001b[38;5;241m.\u001b[39mformat(\u001b[38;5;28mself\u001b[39m\u001b[38;5;241m.\u001b[39m_y_extra_shape[\u001b[38;5;241m-\u001b[39m\u001b[38;5;28mself\u001b[39m\u001b[38;5;241m.\u001b[39m_y_axis:],\n\u001b[1;32m    111\u001b[0m                                            \u001b[38;5;28mself\u001b[39m\u001b[38;5;241m.\u001b[39m_y_extra_shape[:\u001b[38;5;241m-\u001b[39m\u001b[38;5;28mself\u001b[39m\u001b[38;5;241m.\u001b[39m_y_axis])\n\u001b[1;32m    112\u001b[0m     \u001b[38;5;28;01mraise\u001b[39;00m \u001b[38;5;167;01mValueError\u001b[39;00m(\u001b[38;5;124m\"\u001b[39m\u001b[38;5;124mData must be of shape \u001b[39m\u001b[38;5;132;01m%s\u001b[39;00m\u001b[38;5;124m\"\u001b[39m \u001b[38;5;241m%\u001b[39m ok_shape)\n\u001b[0;32m--> 113\u001b[0m \u001b[38;5;28;01mreturn\u001b[39;00m \u001b[43myi\u001b[49m\u001b[38;5;241;43m.\u001b[39;49m\u001b[43mreshape\u001b[49m\u001b[43m(\u001b[49m\u001b[43m(\u001b[49m\u001b[43myi\u001b[49m\u001b[38;5;241;43m.\u001b[39;49m\u001b[43mshape\u001b[49m\u001b[43m[\u001b[49m\u001b[38;5;241;43m0\u001b[39;49m\u001b[43m]\u001b[49m\u001b[43m,\u001b[49m\u001b[43m \u001b[49m\u001b[38;5;241;43m-\u001b[39;49m\u001b[38;5;241;43m1\u001b[39;49m\u001b[43m)\u001b[49m\u001b[43m)\u001b[49m\n",
      "\u001b[0;31mValueError\u001b[0m: cannot reshape array of size 0 into shape (0,newaxis)"
     ]
    }
   ],
   "source": [
    "\n",
    "# Calculate the frame rate of the reference video\n",
    "cap = cv2.VideoCapture(\"tornado_kick_demo.mp4\")\n",
    "if not cap.isOpened():\n",
    "    print(\"Error: Could not open video.\")\n",
    "\n",
    "# Get the frames per second (fps)\n",
    "fps = cap.get(cv2.CAP_PROP_FPS)\n",
    "print(fps)\n",
    "\n",
    "# Get the total number of frames\n",
    "frame_count = len(reference_landmarks)\n",
    "\n",
    "# Calculate duration in seconds\n",
    "video_duration = frame_count / fps\n",
    "print(video_duration)\n",
    "\n",
    "cap.release()  # seconds\n",
    "# reference_frame_count = len(reference_landmarks)\n",
    "\n",
    "\n",
    "# Start capturing real-time footage\n",
    "frame_number = 0\n",
    "real_time_landmarks = []\n",
    "cap_realtime = cv2.VideoCapture(0)\n",
    "print(cap_realtime.get(cv2.CAP_PROP_FPS))\n",
    "with mp_pose.Pose(min_detection_confidence=0.5, min_tracking_confidence=0.5) as pose:\n",
    "    start_time = time.time()\n",
    "    \n",
    "\n",
    "    while cap_realtime.isOpened() and (time.time() - start_time) < video_duration:\n",
    "        ret, frame = cap_realtime.read()\n",
    "        if not ret:\n",
    "            break\n",
    "        \n",
    "        landmarks = extract_landmarks_from_frame(frame, pose)\n",
    "        if landmarks:\n",
    "            real_time_landmarks.append({\n",
    "                \"frame\": frame_number,\n",
    "                \"landmarks\": landmarks\n",
    "            })\n",
    "            frame_number += 1\n",
    "\n",
    "            # Draw landmarks on the real-time frame\n",
    "            mp_drawing.draw_landmarks(frame, pose.process(cv2.cvtColor(frame, cv2.COLOR_BGR2RGB)).pose_landmarks, mp_pose.POSE_CONNECTIONS)\n",
    "\n",
    "        # Display the real-time frame\n",
    "        cv2.imshow('Real-Time Footage', frame)\n",
    "        if cv2.waitKey(1) & 0xFF == ord('q'):\n",
    "            break\n",
    "    print(\"Time is\", time.time()-start_time)\n",
    "    cap_realtime.release()\n",
    "    cv2.destroyAllWindows()\n",
    "    ref_landmarks=[]\n",
    "    realtime_landmarks=[]\n",
    "    # for l in real_time_landmarks:\n",
    "    #     for i in l['landmarks']:\n",
    "    #         print(i['id'])\n",
    "    if len(real_time_landmarks) < frame_count:\n",
    "        print(f\"Real-time footage has {len(real_time_landmarks)} frames; reference has {frame_count} frames.\")\n",
    "        real_time_landmarks = interpolate_landmarks(real_time_landmarks, frame_count)\n",
    "    # for i in real_time_landmarks:\n",
    "    #     print(i)\n",
    "    for i in range(frame_count):\n",
    "        ref_landmarks.append(reference_landmarks[i]['landmarks'])\n",
    "        realtime_landmarks.append(real_time_landmarks[i]['landmarks'])\n",
    "    print(len(ref_landmarks), len(real_time_landmarks))\n",
    "    distances = calculate_landmark_distances(realtime_landmarks, ref_landmarks)\n",
    "    avg_distance = np.mean(distances)\n",
    "    avg_cosine_distance=[]\n",
    "    for i in range(frame_count):\n",
    "        cosine_distances = [[realtime_landmarks[i][j]['x'],realtime_landmarks[i][j]['y'],realtime_landmarks[i][j]['z']] for j in range(33)]\n",
    "        avg_cosine_distance.append(np.mean(cosine_distances))\n",
    "    acc=np.mean(avg_cosine_distance)\n",
    "    print(f\"Frame {i}: Average distance: {(1-acc/2)*100}\")\n",
    "    # print([[realtime_landmarks[1][j]['x'],realtime_landmarks[1][j]['y'],realtime_landmarks[1][j]['z']] for j in range(33)])"
   ]
  }
 ],
 "metadata": {
  "kernelspec": {
   "display_name": "Python 3",
   "language": "python",
   "name": "python3"
  },
  "language_info": {
   "codemirror_mode": {
    "name": "ipython",
    "version": 3
   },
   "file_extension": ".py",
   "mimetype": "text/x-python",
   "name": "python",
   "nbconvert_exporter": "python",
   "pygments_lexer": "ipython3",
   "version": "3.11.7"
  }
 },
 "nbformat": 4,
 "nbformat_minor": 2
}
